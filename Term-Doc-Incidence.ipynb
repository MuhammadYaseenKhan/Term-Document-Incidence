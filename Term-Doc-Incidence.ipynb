{
 "cells": [
  {
   "cell_type": "markdown",
   "metadata": {},
   "source": [
    "This is a breif demo for the construction of Term-Document-Incidence using with and without Python.\n",
    "\n",
    "For the example, we have a tsv file (urdu-sentiment-corpus-v1.tsv) having 2 things at every line \"sentence\" followed by a separtaing tab and a \"label\" in the end.\n",
    "\n",
    "The consturction of the TDI will employe the sentences in the file (as we have to eliminate the label in the end)."
   ]
  },
  {
   "cell_type": "code",
   "execution_count": 4,
   "metadata": {},
   "outputs": [],
   "source": [
    "import json"
   ]
  },
  {
   "cell_type": "markdown",
   "metadata": {},
   "source": [
    "# Building the vocabulary (extraction of distinct words from the dataset)"
   ]
  },
  {
   "cell_type": "code",
   "execution_count": 5,
   "metadata": {},
   "outputs": [],
   "source": [
    "disticnt_words = dict() # an empty dictionary to store words and word-index (key=word; value=index)\n",
    "with open('urdu-sentiment-corpus-v1.tsv', 'r', encoding='utf-8') as file: # opening file\n",
    "#with open('sample.txt', 'r', encoding='utf-8') as file:\n",
    "    index = 0 #default index number of first word\n",
    "    for i,line in enumerate(file): # reading file line by line\n",
    "        if i > 0: # skipping line number 1 in file, as it was mere a header\n",
    "            words = line.strip().split('\\t')[0].split() # tokenizing the line into words\n",
    "            for w in words: # iterating the words one by one.\n",
    "                if w not in disticnt_words: # checking whether the word already exist in the dictionary or not?\n",
    "                    disticnt_words[w] = index # if not add the word in the dicitonary and assigns the index to it\n",
    "                    index += 1 # preparing the new value of index for the next word"
   ]
  },
  {
   "cell_type": "markdown",
   "metadata": {},
   "source": [
    "# Without Numpy"
   ]
  },
  {
   "cell_type": "code",
   "execution_count": 6,
   "metadata": {},
   "outputs": [],
   "source": [
    "with open('urdu-sentiment-corpus-v1.tsv', 'r', encoding='utf-8') as file: # reopeing the file\n",
    "#with open('sample.txt', 'r', encoding='utf-8') as file:\n",
    "    incidence = list() # an empty list for saving the document-incidices. Will be a list of lists\n",
    "    for i,line in enumerate(file): # iterating file, line by line\n",
    "        if i > 0: # skipping the first line, as it was mere a header\n",
    "            temp = [0] * len(disticnt_words) # making a list of zeroes up-to the lenght of distint words\n",
    "            words = line.strip().split('\\t')[0].split() # tokenizing the line into words\n",
    "            for w in words: # iterating words, one by one\n",
    "                temp[ disticnt_words[w] ] = 1 # accessing index of word in distinct_words, putting it at temp and switching zero to 1\n",
    "            incidence.append(temp) # once all words are done, appendign the temp list into incidence."
   ]
  },
  {
   "cell_type": "markdown",
   "metadata": {},
   "source": [
    "# Converting Numpy matrix into Lists and dumping it into JSON"
   ]
  },
  {
   "cell_type": "code",
   "execution_count": 8,
   "metadata": {},
   "outputs": [],
   "source": [
    "with open('incidence.json', 'w') as jfile: # opening a file for JSON\n",
    "    json.dump(incidence, jfile) # dumping the content into file"
   ]
  },
  {
   "cell_type": "markdown",
   "metadata": {},
   "source": [
    "# With Numpy"
   ]
  },
  {
   "cell_type": "code",
   "execution_count": 9,
   "metadata": {},
   "outputs": [],
   "source": [
    "import numpy as np"
   ]
  },
  {
   "cell_type": "code",
   "execution_count": 10,
   "metadata": {},
   "outputs": [],
   "source": [
    "with open('urdu-sentiment-corpus-v1.tsv', 'r', encoding='utf-8') as file: # opeing file\n",
    "#with open('sample.txt', 'r', encoding='utf-8') as file:\n",
    "    incidence = np.zeros(shape=(1000,len(disticnt_words))) # making a matrix of zeros dimensions = (num of docs, num of distinct wors)\n",
    "    for i,line in enumerate(file): # iterating the file, line by line\n",
    "        if i > 0: # skipping the first line\n",
    "            words = line.strip().split('\\t')[0].split() # tokinizing the sentences in the line\n",
    "            for w in words: # iterating the words, one by one\n",
    "                incidence[i-1, disticnt_words[w]] = 1 # switching 0 to 1 at the i-1 row and column (guied by the) dictonary of word-index\n"
   ]
  },
  {
   "cell_type": "markdown",
   "metadata": {},
   "source": [
    "# Converting Numpy matrix into Lists and dumping it into JSON"
   ]
  },
  {
   "cell_type": "code",
   "execution_count": 11,
   "metadata": {},
   "outputs": [],
   "source": [
    "with open('incidence.json', 'w') as jfile: # opening the file for JSON\n",
    "    json.dump(incidence.tolist(), jfile) # converting Numpy 2D-array to Pythonic List of Lists, and dumping it into file"
   ]
  }
 ],
 "metadata": {
  "kernelspec": {
   "display_name": "Python 3",
   "language": "python",
   "name": "python3"
  },
  "language_info": {
   "codemirror_mode": {
    "name": "ipython",
    "version": 3
   },
   "file_extension": ".py",
   "mimetype": "text/x-python",
   "name": "python",
   "nbconvert_exporter": "python",
   "pygments_lexer": "ipython3",
   "version": "3.7.3"
  }
 },
 "nbformat": 4,
 "nbformat_minor": 2
}
